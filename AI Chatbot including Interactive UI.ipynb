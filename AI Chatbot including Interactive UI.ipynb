{
 "cells": [
  {
   "cell_type": "code",
   "execution_count": 17,
   "id": "9c3aaaca-0120-4592-b540-6af0f4acb10a",
   "metadata": {
    "scrolled": true
   },
   "outputs": [
    {
     "name": "stdout",
     "output_type": "stream",
     "text": [
      "✅ OpenAI API Key exists and begins sk-proj-\n",
      "* Running on local URL:  http://127.0.0.1:7864\n",
      "* Running on public URL: https://eb4cd15481399ed61c.gradio.live\n",
      "\n",
      "This share link expires in 1 week. For free permanent hosting and GPU upgrades, run `gradio deploy` from the terminal in the working directory to deploy to Hugging Face Spaces (https://huggingface.co/spaces)\n"
     ]
    },
    {
     "data": {
      "text/html": [
       "<div><iframe src=\"https://eb4cd15481399ed61c.gradio.live\" width=\"100%\" height=\"500\" allow=\"autoplay; camera; microphone; clipboard-read; clipboard-write;\" frameborder=\"0\" allowfullscreen></iframe></div>"
      ],
      "text/plain": [
       "<IPython.core.display.HTML object>"
      ]
     },
     "metadata": {},
     "output_type": "display_data"
    },
    {
     "data": {
      "text/plain": []
     },
     "execution_count": 17,
     "metadata": {},
     "output_type": "execute_result"
    }
   ],
   "source": [
    "# =========================================================\n",
    "# 📌 Recruitment Assistant Chatbot (Teetli-style project)\n",
    "# =========================================================\n",
    "\n",
    "# --- Imports ---\n",
    "import os\n",
    "from dotenv import load_dotenv\n",
    "from openai import OpenAI\n",
    "import gradio as gr\n",
    "\n",
    "# --- API Setup ---\n",
    "load_dotenv(override=True)\n",
    "openai_api_key = os.getenv(\"OPENAI_API_KEY\")\n",
    "\n",
    "if openai_api_key:\n",
    "    print(f\"✅ OpenAI API Key exists and begins {openai_api_key[:8]}\")\n",
    "else:\n",
    "    print(\"❌ OpenAI API Key not set\")\n",
    "\n",
    "# Initialize OpenAI client\n",
    "openai = OpenAI()\n",
    "MODEL = \"gpt-4o-mini\"\n",
    "\n",
    "# --- System Message ---\n",
    "system_message = \"\"\"\n",
    "You are a Recruitment Assistant AI that helps recruiters manage candidates, \n",
    "job descriptions, and interview preparation. \n",
    "You should:\n",
    "- Help recruiters draft and refine Job Descriptions (JDs).\n",
    "- Suggest candidate screening questions.\n",
    "- Provide feedback on candidate profiles.\n",
    "- Recommend best practices for shortlisting candidates.\n",
    "- Remind recruiters about compliance, fairness, and clarity in hiring.\n",
    "Always be professional, concise, and recruiter-friendly.\n",
    "\"\"\"\n",
    "\n",
    "# --- Chat Function ---\n",
    "def chat(message, history):\n",
    "    \"\"\"\n",
    "    message: latest recruiter input\n",
    "    history: previous conversation in OpenAI format (role + content)\n",
    "    \n",
    "    Returns a streamed assistant response.\n",
    "    \"\"\"\n",
    "    # Combine system message + history + new user message\n",
    "    messages = [{\"role\": \"system\", \"content\": system_message}] + history + [\n",
    "        {\"role\": \"user\", \"content\": message}\n",
    "    ]\n",
    "\n",
    "    # Stream response from OpenAI\n",
    "    stream = openai.chat.completions.create(\n",
    "        model=MODEL,\n",
    "        messages=messages,\n",
    "        stream=True\n",
    "    )\n",
    "\n",
    "    response = \"\"\n",
    "    for chunk in stream:\n",
    "        response += chunk.choices[0].delta.content or \"\"\n",
    "        yield response\n",
    "\n",
    "# --- Gradio UI ---\n",
    "chatbot = gr.Chatbot(label=\"Recruitment Assistant\", type=\"messages\")\n",
    "\n",
    "demo = gr.ChatInterface(\n",
    "    fn=chat,\n",
    "    type=\"messages\",\n",
    "    chatbot=chatbot,\n",
    "    title=\"Recruitment Assistant Chatbot\",\n",
    "    description=\"Ask me about managing candidates, drafting JDs, or screening questions!\"\n",
    ")\n",
    "\n",
    "# Launch app\n",
    "demo.launch(share = True)\n"
   ]
  },
  {
   "cell_type": "code",
   "execution_count": null,
   "id": "4caa1082-58ba-4abd-b24b-143f7b75e1d1",
   "metadata": {},
   "outputs": [],
   "source": []
  }
 ],
 "metadata": {
  "kernelspec": {
   "display_name": "Python 3 (ipykernel)",
   "language": "python",
   "name": "python3"
  },
  "language_info": {
   "codemirror_mode": {
    "name": "ipython",
    "version": 3
   },
   "file_extension": ".py",
   "mimetype": "text/x-python",
   "name": "python",
   "nbconvert_exporter": "python",
   "pygments_lexer": "ipython3",
   "version": "3.11.13"
  }
 },
 "nbformat": 4,
 "nbformat_minor": 5
}
